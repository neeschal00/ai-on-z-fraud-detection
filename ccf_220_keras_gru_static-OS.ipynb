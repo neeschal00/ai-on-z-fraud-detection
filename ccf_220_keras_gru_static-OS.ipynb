{
 "cells": [
  {
   "cell_type": "code",
   "execution_count": null,
   "metadata": {},
   "outputs": [],
   "source": [
    "#\n",
    "# Copyright 2021- IBM Inc. All rights reserved\n",
    "# SPDX-License-Identifier: Apache2.0\n",
    "#"
   ]
  },
  {
   "cell_type": "code",
   "execution_count": 1,
   "metadata": {},
   "outputs": [
    {
     "name": "stdout",
     "output_type": "stream",
     "text": [
      "2.1.0\n"
     ]
    }
   ],
   "source": [
    "import tensorflow as tf\n",
    "from tensorflow import keras\n",
    "import numpy as np\n",
    "import pandas as pd\n",
    "import math\n",
    "import os\n",
    "import joblib\n",
    "import pydot\n",
    "print(tf.__version__)"
   ]
  },
  {
   "cell_type": "code",
   "execution_count": 2,
   "metadata": {},
   "outputs": [],
   "source": [
    "seq_length = 7 # Six past transactions followed by current transaction"
   ]
  },
  {
   "cell_type": "markdown",
   "metadata": {},
   "source": [
    "# Process database"
   ]
  },
  {
   "cell_type": "code",
   "execution_count": 3,
   "metadata": {},
   "outputs": [
    {
     "name": "stdout",
     "output_type": "stream",
     "text": [
      "<class 'pandas.core.frame.DataFrame'>\n",
      "RangeIndex: 24386900 entries, 0 to 24386899\n",
      "Data columns (total 15 columns):\n",
      " #   Column          Dtype  \n",
      "---  ------          -----  \n",
      " 0   User            int64  \n",
      " 1   Card            int64  \n",
      " 2   Year            int64  \n",
      " 3   Month           int64  \n",
      " 4   Day             int64  \n",
      " 5   Time            object \n",
      " 6   Amount          object \n",
      " 7   Use Chip        object \n",
      " 8   Merchant Name   object \n",
      " 9   Merchant City   object \n",
      " 10  Merchant State  object \n",
      " 11  Zip             float64\n",
      " 12  MCC             int64  \n",
      " 13  Errors?         object \n",
      " 14  Is Fraud?       object \n",
      "dtypes: float64(1), int64(6), object(8)\n",
      "memory usage: 2.7+ GB\n",
      "None\n",
      "24350099 12175049 7305030 4870020\n",
      "[ 9802207 14106565  3424650 ...   986295    31770 22457273] [11386714 20819702 13959897 ...  6750280  4076771 23370874] [       9       14       23 ... 24386880 24386886 24386894]\n"
     ]
    }
   ],
   "source": [
    "tdf = pd.read_csv('Data/card_transaction.v1.csv')\n",
    "tdf['Merchant Name'] = tdf['Merchant Name'].astype(str)\n",
    "tdf.sort_values(by=['User','Card'], inplace=True)\n",
    "tdf.reset_index(inplace=True, drop=True)\n",
    "print (tdf.info())\n",
    "\n",
    "# Get first of each User-Card combination\n",
    "first = tdf[['User','Card']].drop_duplicates()\n",
    "f = np.array(first.index)\n",
    "\n",
    "# Drop the first N transactions\n",
    "drop_list = np.concatenate([np.arange(x,x + seq_length - 1) for x in f])\n",
    "index_list = np.setdiff1d(tdf.index.values,drop_list)\n",
    "\n",
    "# Split into 0.5 train, 0.3 validate, 0.2 test\n",
    "tot_length = index_list.shape[0]\n",
    "train_length = tot_length // 2\n",
    "validate_length = (tot_length - train_length) * 3 // 5\n",
    "test_length = tot_length - train_length - validate_length\n",
    "print (tot_length,train_length,validate_length, test_length)\n",
    "\n",
    "# Generate list of indices for train, validate, test\n",
    "np.random.seed(1111)\n",
    "train_indices = np.random.choice(index_list, train_length, replace=False)\n",
    "tv_list = np.setdiff1d(index_list, train_indices)\n",
    "validate_indices = np.random.choice(tv_list, validate_length, replace=False)\n",
    "test_indices = np.setdiff1d(tv_list, validate_indices)\n",
    "print (train_indices, validate_indices, test_indices)"
   ]
  },
  {
   "cell_type": "markdown",
   "metadata": {},
   "source": [
    "# Uncomment the last line to generate a test sample: database + test indices"
   ]
  },
  {
   "cell_type": "code",
   "execution_count": 4,
   "metadata": {
    "scrolled": false
   },
   "outputs": [
    {
     "name": "stdout",
     "output_type": "stream",
     "text": [
      "[11386714 20819702 13959897 ...  7418203 13532884  5122780]\n"
     ]
    }
   ],
   "source": [
    "def create_test_sample(df, indices):\n",
    "    print(indices)\n",
    "    rows = indices.shape[0]\n",
    "    index_array = np.zeros((rows, seq_length), dtype=np.int)\n",
    "    for i in range(seq_length):\n",
    "        index_array[:,i] = indices + 1 - seq_length + i\n",
    "    uniques = np.unique(index_array.flatten())\n",
    "    df.loc[uniques].to_csv('test_220_100k.csv',index_label='Index')\n",
    "    np.savetxt('test_220_100k.indices',indices.astype(int),fmt='%d')\n",
    "\n",
    "create_test_sample(tdf, validate_indices[:100000]) # Uncomment this line to generate a test sample                    "
   ]
  },
  {
   "cell_type": "markdown",
   "metadata": {},
   "source": [
    "# Define custom mapping functions"
   ]
  },
  {
   "cell_type": "code",
   "execution_count": 5,
   "metadata": {},
   "outputs": [],
   "source": [
    "def timeEncoder(X):\n",
    "    X_hm = X['Time'].str.split(':', expand=True)\n",
    "    d = pd.to_datetime(dict(year=X['Year'],month=X['Month'],day=X['Day'],hour=X_hm[0],minute=X_hm[1]))\n",
    "    d = d.values.astype(int)\n",
    "    print(d.dtype)\n",
    "    d = d.astype(int)\n",
    "    return pd.DataFrame(d)\n",
    "\n",
    "def amtEncoder(X):\n",
    "    amt = X.apply(lambda x: x[1:]).astype(float).map(lambda amt: max(1,amt)).map(math.log)\n",
    "    return pd.DataFrame(amt)\n",
    "\n",
    "def decimalEncoder(X,length=5):\n",
    "    dnew = pd.DataFrame()\n",
    "    for i in range(length):\n",
    "        dnew[i] = np.mod(X,10) \n",
    "        X = np.floor_divide(X,10)\n",
    "    return dnew\n",
    "\n",
    "def fraudEncoder(X):\n",
    "    return np.where(X == 'Yes', 1, 0).astype(int)"
   ]
  },
  {
   "cell_type": "markdown",
   "metadata": {},
   "source": [
    "# Fit the whole data using DataFrameMapper and pickle the mapper"
   ]
  },
  {
   "cell_type": "code",
   "execution_count": 7,
   "metadata": {},
   "outputs": [],
   "source": [
    "save_dir = 'saved_models/P/ccf_220_keras_gru_static/1'"
   ]
  },
  {
   "cell_type": "code",
   "execution_count": 6,
   "metadata": {
    "scrolled": true
   },
   "outputs": [
    {
     "name": "stdout",
     "output_type": "stream",
     "text": [
      "int32\n"
     ]
    },
    {
     "ename": "NameError",
     "evalue": "name 'save_dir' is not defined",
     "output_type": "error",
     "traceback": [
      "\u001b[1;31m---------------------------------------------------------------------------\u001b[0m",
      "\u001b[1;31mNameError\u001b[0m                                 Traceback (most recent call last)",
      "\u001b[1;32m<ipython-input-6-de16b792ce09>\u001b[0m in \u001b[0;36m<module>\u001b[1;34m\u001b[0m\n\u001b[0;32m     22\u001b[0m \u001b[0mmapper\u001b[0m\u001b[1;33m.\u001b[0m\u001b[0mfit\u001b[0m\u001b[1;33m(\u001b[0m\u001b[0mtdf\u001b[0m\u001b[1;33m)\u001b[0m\u001b[1;33m\u001b[0m\u001b[1;33m\u001b[0m\u001b[0m\n\u001b[0;32m     23\u001b[0m \u001b[1;33m\u001b[0m\u001b[0m\n\u001b[1;32m---> 24\u001b[1;33m \u001b[0mjoblib\u001b[0m\u001b[1;33m.\u001b[0m\u001b[0mdump\u001b[0m\u001b[1;33m(\u001b[0m\u001b[0mmapper\u001b[0m\u001b[1;33m,\u001b[0m \u001b[0mopen\u001b[0m\u001b[1;33m(\u001b[0m\u001b[0mos\u001b[0m\u001b[1;33m.\u001b[0m\u001b[0mpath\u001b[0m\u001b[1;33m.\u001b[0m\u001b[0mjoin\u001b[0m\u001b[1;33m(\u001b[0m\u001b[0msave_dir\u001b[0m\u001b[1;33m,\u001b[0m\u001b[1;34m'fitted_mapper.pkl'\u001b[0m\u001b[1;33m)\u001b[0m\u001b[1;33m,\u001b[0m\u001b[1;34m'wb'\u001b[0m\u001b[1;33m)\u001b[0m\u001b[1;33m)\u001b[0m\u001b[1;33m\u001b[0m\u001b[1;33m\u001b[0m\u001b[0m\n\u001b[0m",
      "\u001b[1;31mNameError\u001b[0m: name 'save_dir' is not defined"
     ]
    }
   ],
   "source": [
    "from sklearn_pandas import DataFrameMapper\n",
    "from sklearn.preprocessing import LabelEncoder\n",
    "from sklearn.preprocessing import OneHotEncoder\n",
    "from sklearn.preprocessing import FunctionTransformer\n",
    "from sklearn.preprocessing import MinMaxScaler\n",
    "from sklearn.preprocessing import LabelBinarizer\n",
    "from sklearn.impute import SimpleImputer\n",
    "\n",
    "mapper = DataFrameMapper([('Is Fraud?', FunctionTransformer(fraudEncoder)),\n",
    "                          (['Merchant State'], [SimpleImputer(strategy='constant'), FunctionTransformer(np.ravel),\n",
    "                                               LabelEncoder(), FunctionTransformer(decimalEncoder), OneHotEncoder()]),\n",
    "                          (['Zip'], [SimpleImputer(strategy='constant'), FunctionTransformer(np.ravel),\n",
    "                                     FunctionTransformer(decimalEncoder), OneHotEncoder()]),\n",
    "                          ('Merchant Name', [LabelEncoder(), FunctionTransformer(decimalEncoder), OneHotEncoder()]),\n",
    "                          ('Merchant City', [LabelEncoder(), FunctionTransformer(decimalEncoder), OneHotEncoder()]),\n",
    "                          ('MCC', [LabelEncoder(), FunctionTransformer(decimalEncoder), OneHotEncoder()]),\n",
    "                          (['Use Chip'], [SimpleImputer(strategy='constant'), LabelBinarizer()]),\n",
    "                          (['Errors?'], [SimpleImputer(strategy='constant'), LabelBinarizer()]),\n",
    "                          (['Year','Month','Day','Time'], [FunctionTransformer(timeEncoder), MinMaxScaler()]),\n",
    "                          ('Amount', [FunctionTransformer(amtEncoder), MinMaxScaler()])\n",
    "                         ], input_df=True, df_out=True)\n",
    "mapper.fit(tdf)\n",
    "\n"
   ]
  },
  {
   "cell_type": "code",
   "execution_count": 10,
   "metadata": {},
   "outputs": [],
   "source": [
    "joblib.dump(mapper, open('fitted_mapper.pkl','wb'))"
   ]
  },
  {
   "cell_type": "code",
   "execution_count": 11,
   "metadata": {},
   "outputs": [],
   "source": [
    "mapper = joblib.load(open('fitted_mapper.pkl','rb'))"
   ]
  },
  {
   "cell_type": "markdown",
   "metadata": {},
   "source": [
    "# Do a transform on one row to get number of mapped features (including label)"
   ]
  },
  {
   "cell_type": "code",
   "execution_count": 12,
   "metadata": {
    "scrolled": true
   },
   "outputs": [
    {
     "name": "stdout",
     "output_type": "stream",
     "text": [
      "int32\n",
      "221\n"
     ]
    }
   ],
   "source": [
    "mapped_sample = mapper.transform(tdf[:100])\n",
    "mapped_size = mapped_sample.shape[-1]\n",
    "print(mapped_size)"
   ]
  },
  {
   "cell_type": "markdown",
   "metadata": {},
   "source": [
    "# Generator for training batches"
   ]
  },
  {
   "cell_type": "code",
   "execution_count": 16,
   "metadata": {
    "scrolled": false
   },
   "outputs": [],
   "source": [
    "def gen_training_batch(df, mapper, index_list, batch_size):\n",
    "    np.random.seed(98765)\n",
    "    train_df = df.loc[index_list]\n",
    "    non_fraud_indices = train_df[train_df['Is Fraud?'] == 'No'].index.values\n",
    "    fraud_indices = train_df[train_df['Is Fraud?'] == 'Yes'].index.values\n",
    "    fsize = fraud_indices.shape[0]\n",
    "    while True:\n",
    "        indices = np.concatenate((fraud_indices,np.random.choice(non_fraud_indices,fsize,replace=False)))\n",
    "        np.random.shuffle(indices)\n",
    "        rows = indices.shape[0]\n",
    "        index_array = np.zeros((rows, seq_length), dtype=np.int)\n",
    "        for i in range(seq_length):\n",
    "            index_array[:,i] = indices + 1 - seq_length + i\n",
    "        full_df = mapper.transform(df.loc[index_array.flatten()])\n",
    "        target_buffer = full_df['Is Fraud?'].to_numpy().reshape(rows, seq_length, 1)\n",
    "        data_buffer = full_df.drop(['Is Fraud?'],axis=1).to_numpy().reshape(rows, seq_length, -1)\n",
    "\n",
    "        batch_ptr = 0\n",
    "        while (batch_ptr + batch_size) <= rows:\n",
    "            data = data_buffer[batch_ptr:batch_ptr+batch_size]\n",
    "            targets = target_buffer[batch_ptr:batch_ptr+batch_size]\n",
    "            batch_ptr += batch_size\n",
    "            data_t = np.transpose(data, axes=(1,0,2))\n",
    "            targets_t = np.transpose(targets, axes=(1,0,2))\n",
    "            yield data_t,targets_t"
   ]
  },
  {
   "cell_type": "markdown",
   "metadata": {},
   "source": [
    "# Utilities "
   ]
  },
  {
   "cell_type": "code",
   "execution_count": 13,
   "metadata": {},
   "outputs": [],
   "source": [
    "def print_trainable_parameters():\n",
    "    total = 0\n",
    "    for variable in tf.trainable_variables():\n",
    "        shape = variable.get_shape()\n",
    "        parameters = 1\n",
    "        for dim in shape:\n",
    "            parameters *= dim\n",
    "        total += parameters\n",
    "        print (variable, shape, parameters)\n",
    "    print(total)\n",
    "\n",
    "def f1(conf):\n",
    "    precision = float(conf[1][1]) / (conf[1][1]+conf[0][1])\n",
    "    recall = float(conf[1][1]) / (conf[1][1]+conf[1][0])\n",
    "    return 2 * precision * recall / (precision + recall)\n",
    "\n",
    "class TP(tf.keras.metrics.TruePositives):\n",
    "    def update_state(self, y_true, y_pred, sample_weight=None):\n",
    "        super().update_state(y_true[-1,:,:], y_pred[-1,:,:], sample_weight)\n",
    "\n",
    "class FP(tf.keras.metrics.FalsePositives):\n",
    "    def update_state(self, y_true, y_pred, sample_weight=None):\n",
    "        super().update_state(y_true[-1,:,:], y_pred[-1,:,:], sample_weight)\n",
    "\n",
    "class FN(tf.keras.metrics.FalseNegatives):\n",
    "    def update_state(self, y_true, y_pred, sample_weight=None):\n",
    "        super().update_state(y_true[-1,:,:], y_pred[-1,:,:], sample_weight)\n",
    "\n",
    "class TN(tf.keras.metrics.TrueNegatives):\n",
    "    def update_state(self, y_true, y_pred, sample_weight=None):\n",
    "        super().update_state(y_true[-1,:,:], y_pred[-1,:,:], sample_weight)\n"
   ]
  },
  {
   "cell_type": "markdown",
   "metadata": {},
   "source": [
    "# Graph parameters"
   ]
  },
  {
   "cell_type": "code",
   "execution_count": 17,
   "metadata": {},
   "outputs": [],
   "source": [
    "units = [200,200]\n",
    "input_size = mapped_size - 1\n",
    "output_size = 1"
   ]
  },
  {
   "cell_type": "markdown",
   "metadata": {},
   "source": [
    "# Tensorflow graph construction"
   ]
  },
  {
   "cell_type": "code",
   "execution_count": 21,
   "metadata": {},
   "outputs": [
    {
     "name": "stdout",
     "output_type": "stream",
     "text": [
      "Model: \"sequential_2\"\n",
      "_________________________________________________________________\n",
      "Layer (type)                 Output Shape              Param #   \n",
      "=================================================================\n",
      "gru_4 (GRU)                  (7, 16, 200)              253200    \n",
      "_________________________________________________________________\n",
      "gru_5 (GRU)                  (7, 16, 200)              241200    \n",
      "_________________________________________________________________\n",
      "dense_2 (Dense)              (7, 16, 1)                201       \n",
      "=================================================================\n",
      "Total params: 494,601\n",
      "Trainable params: 494,601\n",
      "Non-trainable params: 0\n",
      "_________________________________________________________________\n",
      "Failed to import pydot. You must install pydot and graphviz for `pydotprint` to work.\n"
     ]
    }
   ],
   "source": [
    "batch_size = 16\n",
    "tf_input = ([batch_size, input_size])\n",
    "\n",
    "gru_model = tf.keras.models.Sequential([\n",
    "    tf.keras.layers.GRU(units[0], input_shape=tf_input, batch_size=7, time_major=True, return_sequences=True),\n",
    "    tf.keras.layers.GRU(units[1], return_sequences=True, time_major=True),\n",
    "    tf.keras.layers.Dense(output_size, activation='sigmoid')\n",
    "])\n",
    "\n",
    "gru_model.summary()\n",
    "tf.keras.utils.plot_model(gru_model, 'model.png', show_shapes=True)"
   ]
  },
  {
   "cell_type": "code",
   "execution_count": 22,
   "metadata": {},
   "outputs": [],
   "source": [
    "metrics=['accuracy', \n",
    "    TP(name='TP'),\n",
    "    FP(name='FP'),\n",
    "    FN(name='FN'),\n",
    "    TN(name='TN'),\n",
    "    tf.keras.metrics.TruePositives(name='tp'),\n",
    "    tf.keras.metrics.FalsePositives(name='fp'),\n",
    "    tf.keras.metrics.FalseNegatives(name='fn'),\n",
    "    tf.keras.metrics.TrueNegatives(name='tn')\n",
    "   ]"
   ]
  },
  {
   "cell_type": "markdown",
   "metadata": {},
   "source": [
    "# Compile graph"
   ]
  },
  {
   "cell_type": "code",
   "execution_count": 23,
   "metadata": {},
   "outputs": [],
   "source": [
    "gru_model.compile(optimizer='adam', loss='binary_crossentropy', metrics=metrics)"
   ]
  },
  {
   "cell_type": "markdown",
   "metadata": {},
   "source": [
    "# Tensorflow training parameters"
   ]
  },
  {
   "cell_type": "code",
   "execution_count": 24,
   "metadata": {},
   "outputs": [],
   "source": [
    "steps_per_epoch = 50000\n",
    "checkpoint_dir = \"./checkpoints/ccf_220_keras_gru_static/\"\n",
    "filepath = checkpoint_dir + \"iter-{epoch:02d}/model.ckpt\"\n",
    "batch_size = 16"
   ]
  },
  {
   "cell_type": "markdown",
   "metadata": {},
   "source": [
    "# Tensorflow training"
   ]
  },
  {
   "cell_type": "code",
   "execution_count": 25,
   "metadata": {
    "scrolled": false
   },
   "outputs": [
    {
     "name": "stdout",
     "output_type": "stream",
     "text": [
      "Learning...\n",
      "int32\n",
      "WARNING:tensorflow:sample_weight modes were coerced from\n",
      "  ...\n",
      "    to  \n",
      "  ['...']\n",
      "Train for 50000 steps\n",
      " 1859/50000 [>.............................] - ETA: 13:54 - loss: 0.1531 - accuracy: 0.9486 - TP: 12734.0000 - FP: 353.0000 - FN: 2137.0000 - TN: 14520.0000 - tp: 40860.0000 - fp: 2913.0000 - fn: 7779.0000 - tn: 156656.0000int32\n",
      " 3718/50000 [=>............................] - ETA: 15:40 - loss: 0.1312 - accuracy: 0.9555 - TP: 26172.0000 - FP: 663.0000 - FN: 3567.0000 - TN: 29086.0000 - tp: 83669.0000 - fp: 4930.0000 - fn: 13612.0000 - tn: 314205.0000int32\n",
      " 5577/50000 [==>...........................] - ETA: 15:53 - loss: 0.1144 - accuracy: 0.9606 - TP: 40145.0000 - FP: 967.0000 - FN: 4469.0000 - TN: 43651.0000 - tp: 128081.0000 - fp: 6772.0000 - fn: 17854.0000 - tn: 471917.0000- ETA: 15:26 - loss: 0.1145 - accuracy: 0.9606 - TP: 40140.0000 - FP: 967.0000 - FN: 4469.0000 - TN: 43640.0000 - tp: 128065.0000 - fp: 6772.0000 - fn: 17854.0000 - tn: 471821.000int32\n",
      " 7435/50000 [===>..........................] - ETA: 15:16 - loss: 0.1008 - accuracy: 0.9650 - TP: 54451.0000 - FP: 1244.0000 - FN: 5026.0000 - TN: 58239.0000 - tp: 173722.0000 - fp: 8326.0000 - fn: 20832.0000 - tn: 629840.0000int32\n",
      " 9294/50000 [====>.........................] - ETA: 14:37 - loss: 0.0898 - accuracy: 0.9687 - TP: 68941.0000 - FP: 1470.0000 - FN: 5405.0000 - TN: 72888.0000 - tp: 220195.0000 - fp: 9567.0000 - fn: 23009.0000 - tn: 788157.0000int32\n",
      "11154/50000 [=====>........................] - ETA: 14:01 - loss: 0.0808 - accuracy: 0.9718 - TP: 83535.0000 - FP: 1637.0000 - FN: 5693.0000 - TN: 87599.0000 - tp: 267197.0000 - fp: 10601.0000 - fn: 24686.0000 - tn: 946764.0000- ETA:int32\n",
      "13012/50000 [======>.......................] - ETA: 13:29 - loss: 0.0734 - accuracy: 0.9743 - TP: 98216.0000 - FP: 1775.0000 - FN: 5877.0000 - TN: 102324.0000 - tp: 314508.0000 - fp: 11478.0000 - fn: 26019.0000 - tn: 1105339.0000int32\n",
      "14870/50000 [=======>......................] - ETA: 12:54 - loss: 0.0673 - accuracy: 0.9763 - TP: 112935.0000 - FP: 1887.0000 - FN: 6027.0000 - TN: 117071.0000 - tp: 362060.0000 - fp: 12264.0000 - fn: 27136.0000 - tn: 1263980.0000int32\n",
      "16731/50000 [=========>....................] - ETA: 12:14 - loss: 0.0623 - accuracy: 0.9781 - TP: 127702.0000 - FP: 1985.0000 - FN: 6147.0000 - TN: 131862.0000 - tp: 409815.0000 - fp: 12964.0000 - fn: 28084.0000 - tn: 1423009.0000int32\n",
      "18589/50000 [==========>...................] - ETA: 11:24 - loss: 0.0579 - accuracy: 0.9796 - TP: 142451.0000 - FP: 2077.0000 - FN: 6261.0000 - TN: 146635.0000 - tp: 457617.0000 - fp: 13577.0000 - fn: 28915.0000 - tn: 1581859.0000int32\n",
      "20449/50000 [===========>..................] - ETA: 10:36 - loss: 0.0542 - accuracy: 0.9809 - TP: 157242.0000 - FP: 2165.0000 - FN: 6349.0000 - TN: 161428.0000 - tp: 505579.0000 - fp: 14129.0000 - fn: 29636.0000 - tn: 1740944.0000int32\n",
      "22307/50000 [============>.................] - ETA: 9:51 - loss: 0.0511 - accuracy: 0.9820 - TP: 172030.0000 - FP: 2243.0000 - FN: 6424.0000 - TN: 176215.0000 - tp: 553547.0000 - fp: 14686.0000 - fn: 30315.0000 - tn: 1899836.0000- ETA: 9:50 - loss: 0.0511 - accuracy: 0.9820 - TP: 171995.0000 - FP: 2243.0000 - FN: 6424.0000 - TN: 176186.0000 - tp: 553430.0000 - fp: 14686.0000 - fn: 30312.0000 - tn: 1899508.0int32\n",
      "24166/50000 [=============>................] - ETA: 9:08 - loss: 0.0484 - accuracy: 0.9830 - TP: 186814.0000 - FP: 2310.0000 - FN: 6516.0000 - TN: 191016.0000 - tp: 601597.0000 - fp: 15183.0000 - fn: 30955.0000 - tn: 2058857.0000- ETA: 9:15 - loss: 0.0488 - accuracy: 0.9828 - TP: 184107.0000 - FP: 2300.0000 - FN: 649int32\n",
      "26024/50000 [==============>...............] - ETA: 8:30 - loss: 0.0460 - accuracy: 0.9838 - TP: 201605.0000 - FP: 2373.0000 - FN: 6587.0000 - TN: 205819.0000 - tp: 649581.0000 - fp: 15709.0000 - fn: 31617.0000 - tn: 2217781.0000int32\n",
      "27884/50000 [===============>..............] - ETA: 7:52 - loss: 0.0439 - accuracy: 0.9845 - TP: 216417.0000 - FP: 2428.0000 - FN: 6658.0000 - TN: 220641.0000 - tp: 697664.0000 - fp: 16192.0000 - fn: 32219.0000 - tn: 2376933.0000int32\n",
      "29742/50000 [================>.............] - ETA: 7:11 - loss: 0.0420 - accuracy: 0.9852 - TP: 231220.0000 - FP: 2480.0000 - FN: 6716.0000 - TN: 235456.0000 - tp: 745739.0000 - fp: 16601.0000 - fn: 32773.0000 - tn: 2535991.0000- ETA: 7:32 - loss: 0.0428 - accuracy: 0.9849 - TP: 224799.0000 - FP: 2458.0000 - FN: 6685.0000 - TN: 229034.0000 - tp: 724695.0000 - fp: 1641 - ETA: 7:27 - loss: 0.0426 - accuracy: 0.9850 - TP: 226242.0000 - FP: 2461.0000 - FN: 6691.0000 - TN: 23054 - ETA: 7:18 - loss: 0.0423 - accuracy: 0.9851 - TP: 228772.0000 - FP: 2474.0000 - FN: 6704.0000 - TN: 233042.0000int32\n",
      "31603/50000 [=================>............] - ETA: 6:29 - loss: 0.0402 - accuracy: 0.9858 - TP: 246054.0000 - FP: 2530.0000 - FN: 6768.0000 - TN: 250296.0000 - tp: 793914.0000 - fp: 17023.0000 - fn: 33302.0000 - tn: 2695297.0000int32\n",
      "33460/50000 [===================>..........] - ETA: 5:47 - loss: 0.0386 - accuracy: 0.9863 - TP: 260863.0000 - FP: 2583.0000 - FN: 6815.0000 - TN: 265099.0000 - tp: 841998.0000 - fp: 17426.0000 - fn: 33822.0000 - tn: 2854274.0000int32\n",
      "35321/50000 [====================>.........] - ETA: 5:06 - loss: 0.0372 - accuracy: 0.9868 - TP: 275695.0000 - FP: 2623.0000 - FN: 6872.0000 - TN: 279946.0000 - tp: 890220.0000 - fp: 17787.0000 - fn: 34314.0000 - tn: 3013631.0000int32\n",
      "37178/50000 [=====================>........] - ETA: 4:27 - loss: 0.0360 - accuracy: 0.9873 - TP: 290481.0000 - FP: 2684.0000 - FN: 6942.0000 - TN: 294741.0000 - tp: 938257.0000 - fp: 18192.0000 - fn: 34847.0000 - tn: 3172640.0000int32\n",
      "39035/50000 [======================>.......] - ETA: 3:46 - loss: 0.0348 - accuracy: 0.9877 - TP: 305285.0000 - FP: 2723.0000 - FN: 6996.0000 - TN: 309556.0000 - tp: 986423.0000 - fp: 18562.0000 - fn: 35326.0000 - tn: 3331609.0000int32\n",
      "40898/50000 [=======================>......] - ETA: 3:06 - loss: 0.0337 - accuracy: 0.9881 - TP: 320148.0000 - FP: 2756.0000 - FN: 7040.0000 - TN: 324424.0000 - tp: 1034755.0000 - fp: 18887.0000 - fn: 35775.0000 - tn: 3491159.0000int32\n",
      "42754/50000 [========================>.....] - ETA: 2:28 - loss: 0.0327 - accuracy: 0.9884 - TP: 334930.0000 - FP: 2794.0000 - FN: 7099.0000 - TN: 339241.0000 - tp: 1082847.0000 - fp: 19232.0000 - fn: 36246.0000 - tn: 3650123.0000int32\n",
      "44616/50000 [=========================>....] - ETA: 1:50 - loss: 0.0317 - accuracy: 0.9887 - TP: 349783.0000 - FP: 2828.0000 - FN: 7147.0000 - TN: 354098.0000 - tp: 1131178.0000 - fp: 19550.0000 - fn: 36669.0000 - tn: 3809595.0000int32\n",
      "46474/50000 [==========================>...] - ETA: 1:12 - loss: 0.0309 - accuracy: 0.9891 - TP: 364609.0000 - FP: 2870.0000 - FN: 7182.0000 - TN: 368923.0000 - tp: 1179383.0000 - fp: 19852.0000 - fn: 37099.0000 - tn: 3968754.0000int32\n",
      "48333/50000 [===========================>..] - ETA: 34s - loss: 0.0301 - accuracy: 0.9893 - TP: 379441.0000 - FP: 2912.0000 - FN: 7224.0000 - TN: 383751.0000 - tp: 1227668.0000 - fp: 20183.0000 - fn: 37515.0000 - tn: 4127930.0000int32\n",
      "49999/50000 [============================>.] - ETA: 0s - loss: 0.0294 - accuracy: 0.9896 - TP: 392735.0000 - FP: 2948.0000 - FN: 7256.0000 - TN: 397045.0000 - tp: 1270824.0000 - fp: 20482.0000 - fn: 37921.0000 - tn: 4270661.0000\n",
      "Epoch 00001: saving model to ./checkpoints/ccf_220_keras_gru_static/iter-01/model.ckpt\n",
      "50000/50000 [==============================] - 1023s 20ms/step - loss: 0.0294 - accuracy: 0.9896 - TP: 392741.0000 - FP: 2948.0000 - FN: 7256.0000 - TN: 397055.0000 - tp: 1270844.0000 - fp: 20482.0000 - fn: 37921.0000 - tn: 4270753.0000\n"
     ]
    },
    {
     "data": {
      "text/plain": [
       "<tensorflow.python.keras.callbacks.History at 0x1e573dcf2e8>"
      ]
     },
     "execution_count": 25,
     "metadata": {},
     "output_type": "execute_result"
    }
   ],
   "source": [
    "print (\"Learning...\")\n",
    "cp_callback = tf.keras.callbacks.ModelCheckpoint(filepath=filepath, save_weights_only=True, verbose=1)\n",
    "train_generate = gen_training_batch(tdf,mapper,train_indices,batch_size)\n",
    "gru_model.fit(train_generate, epochs=1, steps_per_epoch=steps_per_epoch, verbose=1, callbacks=[cp_callback])"
   ]
  },
  {
   "cell_type": "markdown",
   "metadata": {},
   "source": [
    "# Save model from checkpoint"
   ]
  },
  {
   "cell_type": "code",
   "execution_count": null,
   "metadata": {},
   "outputs": [],
   "source": [
    "gru_model.save_weights(os.path.join(save_dir,\"wts\"))\n",
    "gru_model.save(save_dir)"
   ]
  },
  {
   "cell_type": "markdown",
   "metadata": {},
   "source": [
    "# Generator for validation/test batches"
   ]
  },
  {
   "cell_type": "code",
   "execution_count": 14,
   "metadata": {
    "scrolled": false
   },
   "outputs": [],
   "source": [
    "def gen_test_batch(df, mapper, indices, batch_size):\n",
    "    rows = indices.shape[0]\n",
    "    index_array = np.zeros((rows, seq_length), dtype=np.int)\n",
    "    for i in range(seq_length):\n",
    "        index_array[:,i] = indices + 1 - seq_length + i\n",
    "    count = 0\n",
    "    while (count + batch_size <= rows):        \n",
    "        full_df = mapper.transform(df.loc[index_array[count:count+batch_size].flatten()])\n",
    "        data = full_df.drop(['Is Fraud?'],axis=1).to_numpy().reshape(batch_size, seq_length, -1)\n",
    "        targets = full_df['Is Fraud?'].to_numpy().reshape(batch_size, seq_length, 1)\n",
    "        count += batch_size\n",
    "        data_t = np.transpose(data, axes=(1,0,2))\n",
    "        targets_t = np.transpose(targets, axes=(1,0,2))\n",
    "        yield data_t, targets_t"
   ]
  },
  {
   "cell_type": "markdown",
   "metadata": {},
   "source": [
    "# Tensorflow test"
   ]
  },
  {
   "cell_type": "code",
   "execution_count": 20,
   "metadata": {
    "scrolled": true
   },
   "outputs": [
    {
     "ename": "ValueError",
     "evalue": "Unsuccessful TensorSliceReader constructor: Failed to get matching files on saved_models/P/ccf_220_keras_gru_static/1\\wts: Not found: FindFirstFile failed for: saved_models/P/ccf_220_keras_gru_static/1 : The system cannot find the path specified.\r\n; No such process",
     "output_type": "error",
     "traceback": [
      "\u001b[1;31m---------------------------------------------------------------------------\u001b[0m",
      "\u001b[1;31mValueError\u001b[0m                                Traceback (most recent call last)",
      "\u001b[1;32m<ipython-input-20-7ee6085e4a7b>\u001b[0m in \u001b[0;36m<module>\u001b[1;34m\u001b[0m\n\u001b[0;32m     12\u001b[0m     \u001b[0mtf\u001b[0m\u001b[1;33m.\u001b[0m\u001b[0mkeras\u001b[0m\u001b[1;33m.\u001b[0m\u001b[0mlayers\u001b[0m\u001b[1;33m.\u001b[0m\u001b[0mDense\u001b[0m\u001b[1;33m(\u001b[0m\u001b[0moutput_size\u001b[0m\u001b[1;33m,\u001b[0m \u001b[0mactivation\u001b[0m\u001b[1;33m=\u001b[0m\u001b[1;34m'sigmoid'\u001b[0m\u001b[1;33m)\u001b[0m\u001b[1;33m\u001b[0m\u001b[1;33m\u001b[0m\u001b[0m\n\u001b[0;32m     13\u001b[0m ])\n\u001b[1;32m---> 14\u001b[1;33m \u001b[0mnew_model\u001b[0m\u001b[1;33m.\u001b[0m\u001b[0mload_weights\u001b[0m\u001b[1;33m(\u001b[0m\u001b[0mos\u001b[0m\u001b[1;33m.\u001b[0m\u001b[0mpath\u001b[0m\u001b[1;33m.\u001b[0m\u001b[0mjoin\u001b[0m\u001b[1;33m(\u001b[0m\u001b[0msave_dir\u001b[0m\u001b[1;33m,\u001b[0m\u001b[1;34m\"wts\"\u001b[0m\u001b[1;33m)\u001b[0m\u001b[1;33m)\u001b[0m\u001b[1;33m\u001b[0m\u001b[1;33m\u001b[0m\u001b[0m\n\u001b[0m\u001b[0;32m     15\u001b[0m \u001b[0mnew_model\u001b[0m\u001b[1;33m.\u001b[0m\u001b[0mcompile\u001b[0m\u001b[1;33m(\u001b[0m\u001b[0moptimizer\u001b[0m\u001b[1;33m=\u001b[0m\u001b[1;34m'adam'\u001b[0m\u001b[1;33m,\u001b[0m \u001b[0mloss\u001b[0m\u001b[1;33m=\u001b[0m\u001b[1;34m'binary_crossentropy'\u001b[0m\u001b[1;33m,\u001b[0m \u001b[0mmetrics\u001b[0m\u001b[1;33m=\u001b[0m\u001b[0mmetrics\u001b[0m\u001b[1;33m)\u001b[0m\u001b[1;33m\u001b[0m\u001b[1;33m\u001b[0m\u001b[0m\n\u001b[0;32m     16\u001b[0m \u001b[0mddf\u001b[0m \u001b[1;33m=\u001b[0m \u001b[0mpd\u001b[0m\u001b[1;33m.\u001b[0m\u001b[0mread_csv\u001b[0m\u001b[1;33m(\u001b[0m\u001b[1;34m'test_220_100k.csv'\u001b[0m\u001b[1;33m,\u001b[0m \u001b[0mdtype\u001b[0m\u001b[1;33m=\u001b[0m\u001b[1;33m{\u001b[0m\u001b[1;34m\"Merchant Name\"\u001b[0m\u001b[1;33m:\u001b[0m\u001b[1;34m\"str\"\u001b[0m\u001b[1;33m}\u001b[0m\u001b[1;33m,\u001b[0m \u001b[0mindex_col\u001b[0m\u001b[1;33m=\u001b[0m\u001b[1;34m'Index'\u001b[0m\u001b[1;33m)\u001b[0m\u001b[1;33m\u001b[0m\u001b[1;33m\u001b[0m\u001b[0m\n",
      "\u001b[1;32m~\\anaconda3\\envs\\ai_z\\lib\\site-packages\\tensorflow_core\\python\\keras\\engine\\training.py\u001b[0m in \u001b[0;36mload_weights\u001b[1;34m(self, filepath, by_name, skip_mismatch)\u001b[0m\n\u001b[0;32m    232\u001b[0m         raise ValueError('Load weights is not yet supported with TPUStrategy '\n\u001b[0;32m    233\u001b[0m                          'with steps_per_run greater than 1.')\n\u001b[1;32m--> 234\u001b[1;33m     \u001b[1;32mreturn\u001b[0m \u001b[0msuper\u001b[0m\u001b[1;33m(\u001b[0m\u001b[0mModel\u001b[0m\u001b[1;33m,\u001b[0m \u001b[0mself\u001b[0m\u001b[1;33m)\u001b[0m\u001b[1;33m.\u001b[0m\u001b[0mload_weights\u001b[0m\u001b[1;33m(\u001b[0m\u001b[0mfilepath\u001b[0m\u001b[1;33m,\u001b[0m \u001b[0mby_name\u001b[0m\u001b[1;33m,\u001b[0m \u001b[0mskip_mismatch\u001b[0m\u001b[1;33m)\u001b[0m\u001b[1;33m\u001b[0m\u001b[1;33m\u001b[0m\u001b[0m\n\u001b[0m\u001b[0;32m    235\u001b[0m \u001b[1;33m\u001b[0m\u001b[0m\n\u001b[0;32m    236\u001b[0m   \u001b[1;33m@\u001b[0m\u001b[0mtrackable\u001b[0m\u001b[1;33m.\u001b[0m\u001b[0mno_automatic_dependency_tracking\u001b[0m\u001b[1;33m\u001b[0m\u001b[1;33m\u001b[0m\u001b[0m\n",
      "\u001b[1;32m~\\anaconda3\\envs\\ai_z\\lib\\site-packages\\tensorflow_core\\python\\keras\\engine\\network.py\u001b[0m in \u001b[0;36mload_weights\u001b[1;34m(self, filepath, by_name, skip_mismatch)\u001b[0m\n\u001b[0;32m   1185\u001b[0m     \u001b[1;32melse\u001b[0m\u001b[1;33m:\u001b[0m\u001b[1;33m\u001b[0m\u001b[1;33m\u001b[0m\u001b[0m\n\u001b[0;32m   1186\u001b[0m       \u001b[1;32mtry\u001b[0m\u001b[1;33m:\u001b[0m\u001b[1;33m\u001b[0m\u001b[1;33m\u001b[0m\u001b[0m\n\u001b[1;32m-> 1187\u001b[1;33m         \u001b[0mpy_checkpoint_reader\u001b[0m\u001b[1;33m.\u001b[0m\u001b[0mNewCheckpointReader\u001b[0m\u001b[1;33m(\u001b[0m\u001b[0mfilepath\u001b[0m\u001b[1;33m)\u001b[0m\u001b[1;33m\u001b[0m\u001b[1;33m\u001b[0m\u001b[0m\n\u001b[0m\u001b[0;32m   1188\u001b[0m         \u001b[0msave_format\u001b[0m \u001b[1;33m=\u001b[0m \u001b[1;34m'tf'\u001b[0m\u001b[1;33m\u001b[0m\u001b[1;33m\u001b[0m\u001b[0m\n\u001b[0;32m   1189\u001b[0m       \u001b[1;32mexcept\u001b[0m \u001b[0merrors_impl\u001b[0m\u001b[1;33m.\u001b[0m\u001b[0mDataLossError\u001b[0m\u001b[1;33m:\u001b[0m\u001b[1;33m\u001b[0m\u001b[1;33m\u001b[0m\u001b[0m\n",
      "\u001b[1;32m~\\anaconda3\\envs\\ai_z\\lib\\site-packages\\tensorflow_core\\python\\training\\py_checkpoint_reader.py\u001b[0m in \u001b[0;36mNewCheckpointReader\u001b[1;34m(filepattern)\u001b[0m\n\u001b[0;32m     93\u001b[0m   \"\"\"\n\u001b[0;32m     94\u001b[0m   \u001b[1;32mtry\u001b[0m\u001b[1;33m:\u001b[0m\u001b[1;33m\u001b[0m\u001b[1;33m\u001b[0m\u001b[0m\n\u001b[1;32m---> 95\u001b[1;33m     \u001b[1;32mreturn\u001b[0m \u001b[0mCheckpointReader\u001b[0m\u001b[1;33m(\u001b[0m\u001b[0mcompat\u001b[0m\u001b[1;33m.\u001b[0m\u001b[0mas_bytes\u001b[0m\u001b[1;33m(\u001b[0m\u001b[0mfilepattern\u001b[0m\u001b[1;33m)\u001b[0m\u001b[1;33m)\u001b[0m\u001b[1;33m\u001b[0m\u001b[1;33m\u001b[0m\u001b[0m\n\u001b[0m\u001b[0;32m     96\u001b[0m   \u001b[1;31m# TODO(b/143319754): Remove the RuntimeError casting logic once we resolve the\u001b[0m\u001b[1;33m\u001b[0m\u001b[1;33m\u001b[0m\u001b[1;33m\u001b[0m\u001b[0m\n\u001b[0;32m     97\u001b[0m   \u001b[1;31m# issue with throwing python exceptions from C++.\u001b[0m\u001b[1;33m\u001b[0m\u001b[1;33m\u001b[0m\u001b[1;33m\u001b[0m\u001b[0m\n",
      "\u001b[1;31mValueError\u001b[0m: Unsuccessful TensorSliceReader constructor: Failed to get matching files on saved_models/P/ccf_220_keras_gru_static/1\\wts: Not found: FindFirstFile failed for: saved_models/P/ccf_220_keras_gru_static/1 : The system cannot find the path specified.\r\n; No such process"
     ]
    }
   ],
   "source": [
    "batch_size = 2000\n",
    "\n",
    "input_size=220\n",
    "output_size=1\n",
    "units=[200,200]\n",
    "\n",
    "tf_input = ([batch_size, input_size])\n",
    "\n",
    "new_model = tf.keras.models.Sequential([\n",
    "    tf.keras.layers.GRU(units[0], input_shape=tf_input, batch_size=7, time_major=True, return_sequences=True),\n",
    "    tf.keras.layers.GRU(units[1], return_sequences=True, time_major=True),\n",
    "    tf.keras.layers.Dense(output_size, activation='sigmoid')\n",
    "])\n",
    "new_model.load_weights(os.path.join(save_dir,\"wts\"))\n",
    "new_model.compile(optimizer='adam', loss='binary_crossentropy', metrics=metrics)\n",
    "ddf = pd.read_csv('test_220_100k.csv', dtype={\"Merchant Name\":\"str\"}, index_col='Index')\n",
    "indices = np.loadtxt('test_220_100k.indices')\n",
    "\n",
    "batch_size = 2000\n",
    "\n",
    "print(\"\\nQuick test\")\n",
    "test_generate = gen_test_batch(ddf,mapper,indices,batch_size)\n",
    "new_model.evaluate(test_generate, verbose=1)\n",
    "\n",
    "print(\"\\nFull test\")\n",
    "test_generate = gen_test_batch(tdf,mapper,test_indices,batch_size)\n",
    "new_model.evaluate(test_generate, verbose=1)"
   ]
  },
  {
   "cell_type": "code",
   "execution_count": null,
   "metadata": {},
   "outputs": [],
   "source": [
    "def f1(conf):\n",
    "    precision = float(conf[1][1]) / (conf[1][1]+conf[0][1])\n",
    "    recall = float(conf[1][1]) / (conf[1][1]+conf[1][0])\n",
    "    return 2 * precision * recall / (precision + recall)"
   ]
  },
  {
   "cell_type": "code",
   "execution_count": null,
   "metadata": {},
   "outputs": [],
   "source": [
    "print(f1([[99710,172],[6,112]]))\n",
    "print(f1([[4855814,8237],[381,5568]]))"
   ]
  },
  {
   "cell_type": "code",
   "execution_count": null,
   "metadata": {},
   "outputs": [],
   "source": [
    "batch_size = 16\n",
    "tf_input = ([batch_size, input_size])\n",
    "\n",
    "new_model = tf.keras.models.Sequential([\n",
    "    tf.keras.layers.GRU(units[0], input_shape=tf_input, batch_size=7, time_major=True, return_sequences=True),\n",
    "    tf.keras.layers.GRU(units[1], return_sequences=True, time_major=True),\n",
    "    tf.keras.layers.Dense(output_size, activation='sigmoid')\n",
    "])\n",
    "new_model.load_weights(os.path.join(save_dir,\"wts\"))\n",
    "new_model.compile(optimizer='adam', loss='binary_crossentropy')"
   ]
  },
  {
   "cell_type": "code",
   "execution_count": null,
   "metadata": {},
   "outputs": [],
   "source": [
    "new_model.summary()\n",
    "tf.keras.utils.plot_model(new_model, 'model.png', show_shapes=True, expand_nested=True)"
   ]
  },
  {
   "cell_type": "markdown",
   "metadata": {},
   "source": [
    "## Convert to onnx"
   ]
  },
  {
   "cell_type": "code",
   "execution_count": null,
   "metadata": {},
   "outputs": [],
   "source": [
    "from tensorflow import keras\n",
    "import keras2onnx\n",
    "import onnx\n",
    "\n",
    "# convert to onnx\n",
    "onnx_model = keras2onnx.convert_keras(new_model, new_model.name)\n",
    "\n",
    "# Save\n",
    "onnx.save_model(onnx_model, \"ccf_gru_static_keras2onnx.onnx\")"
   ]
  },
  {
   "cell_type": "code",
   "execution_count": null,
   "metadata": {},
   "outputs": [],
   "source": [
    "import tf2onnx\n",
    "\n",
    "# convert to onnx\n",
    "spec = (tf.TensorSpec((7, 16, 220), tf.float32, name=\"input\"),)\n",
    "output_path = new_model.name + \".onnx\"\n",
    "\n",
    "onnx_model = tf2onnx.convert.from_keras(new_model, spec, output_path=output_path)"
   ]
  },
  {
   "cell_type": "code",
   "execution_count": null,
   "metadata": {},
   "outputs": [],
   "source": []
  }
 ],
 "metadata": {
  "kernelspec": {
   "display_name": "base",
   "language": "python",
   "name": "python3"
  },
  "language_info": {
   "codemirror_mode": {
    "name": "ipython",
    "version": 3
   },
   "file_extension": ".py",
   "mimetype": "text/x-python",
   "name": "python",
   "nbconvert_exporter": "python",
   "pygments_lexer": "ipython3",
   "version": "3.9.12 (main, Apr  4 2022, 05:22:27) [MSC v.1916 64 bit (AMD64)]"
  },
  "vscode": {
   "interpreter": {
    "hash": "5ae58900cfbb8c43ab3495913814b7cf26024f51651a94ce8bf64d6111688e8d"
   }
  }
 },
 "nbformat": 4,
 "nbformat_minor": 2
}
